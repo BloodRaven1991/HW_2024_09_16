{
 "cells": [
  {
   "cell_type": "code",
   "execution_count": 4,
   "metadata": {},
   "outputs": [
    {
     "name": "stdout",
     "output_type": "stream",
     "text": [
      "Произведение трех чисел: 6.0\n"
     ]
    }
   ],
   "source": [
    "num1 = float(input(\"Введите первое число: \"))\n",
    "num2 = float(input(\"Введите второе число: \"))\n",
    "num3 = float(input(\"Введите третье число: \"))\n",
    "\n",
    "choice = input(\"Выберите операцию (сумма/произведение): \").strip().lower()\n",
    "\n",
    "if choice == \"сумма\":\n",
    "    result = num1 + num2 + num3\n",
    "    print(\"Сумма трех чисел:\", result)\n",
    "elif choice == \"произведение\":\n",
    "    result = num1 * num2 * num3\n",
    "    print(\"Произведение трех чисел:\", result)\n",
    "else:\n",
    "    print(\"Некорректный выбор операции.\")"
   ]
  },
  {
   "cell_type": "code",
   "execution_count": 10,
   "metadata": {},
   "outputs": [
    {
     "name": "stdout",
     "output_type": "stream",
     "text": [
      "Среднее: 23.0\n"
     ]
    }
   ],
   "source": [
    "num1 = float(input(\"Введите первое число: \"))\n",
    "num2 = float(input(\"Введите второе число: \"))\n",
    "num3 = float(input(\"Введите третье число: \"))\n",
    "\n",
    "choice = input(\"Выберите операцию (max/min/avg): \").strip().lower()\n",
    "\n",
    "if choice == \"max\":\n",
    "    result = max(num1, num2, num3)\n",
    "    print(\"Максимум:\", result)\n",
    "elif choice == \"min\":\n",
    "    result = min(num1, num2, num3)\n",
    "    print(\"Минимум:\", result)\n",
    "elif choice == \"avg\":\n",
    "    result = (num1 + num2 + num3) / 3\n",
    "    print(\"Среднее:\", result)\n",
    "else:\n",
    "    print(\"Некорректный выбор операции.\")"
   ]
  },
  {
   "cell_type": "code",
   "execution_count": 13,
   "metadata": {},
   "outputs": [
    {
     "name": "stdout",
     "output_type": "stream",
     "text": [
      "100.0 метров равно 109.36099999999999 ярдов\n"
     ]
    }
   ],
   "source": [
    "meters = float(input(\"Введите количество метров: \"))\n",
    "\n",
    "choice = input(\"Выберите единицу измерения (мили/дюймы/ярды): \").strip().lower()\n",
    "\n",
    "if choice == \"мили\":\n",
    "    result = meters * 0.000621371\n",
    "    print(f\"{meters} метров равно {result} миль\")\n",
    "elif choice == \"дюймы\":\n",
    "    result = meters * 39.3701\n",
    "    print(f\"{meters} метров равно {result} дюймов\")\n",
    "elif choice == \"ярды\":\n",
    "    result = meters * 1.09361\n",
    "    print(f\"{meters} метров равно {result} ярдов\")\n",
    "else:\n",
    "    print(\"Некорректный выбор единицы измерения.\")"
   ]
  }
 ],
 "metadata": {
  "kernelspec": {
   "display_name": "Python 3",
   "language": "python",
   "name": "python3"
  },
  "language_info": {
   "codemirror_mode": {
    "name": "ipython",
    "version": 3
   },
   "file_extension": ".py",
   "mimetype": "text/x-python",
   "name": "python",
   "nbconvert_exporter": "python",
   "pygments_lexer": "ipython3",
   "version": "3.12.6"
  }
 },
 "nbformat": 4,
 "nbformat_minor": 2
}
