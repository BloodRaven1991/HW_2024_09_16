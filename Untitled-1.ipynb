{
 "cells": [
  {
   "cell_type": "code",
   "execution_count": 1,
   "metadata": {},
   "outputs": [
    {
     "name": "stdout",
     "output_type": "stream",
     "text": [
      "Имя: Александр\n",
      "Возраст: 34\n",
      "Студент: True\n",
      "Новый возраст: 36\n"
     ]
    }
   ],
   "source": [
    "name = \"Александр\"\n",
    "age = 34\n",
    "is_student = True\n",
    "\n",
    "print(\"Имя:\", name)\n",
    "print(\"Возраст:\", age)\n",
    "print(\"Студент:\", is_student)\n",
    "\n",
    "age = 36\n",
    "\n",
    "print(\"Новый возраст:\", age)"
   ]
  },
  {
   "cell_type": "code",
   "execution_count": 2,
   "metadata": {},
   "outputs": [
    {
     "name": "stdout",
     "output_type": "stream",
     "text": [
      "Сумма (a + b): 15\n",
      "Разность (b - a): 5\n",
      "Произведение (a * b): 50\n",
      "Частное (b / a): 2.0\n",
      "Остаток от деления (b % a): 0\n"
     ]
    }
   ],
   "source": [
    "a = 5\n",
    "b = 10\n",
    "\n",
    "\n",
    "summa = a + b\n",
    "vychisleniye = b - a\n",
    "multi = a * b\n",
    "division = b / a\n",
    "ostatok = b % a\n",
    "\n",
    "print(\"Сумма (a + b):\", summa)\n",
    "print(\"Разность (b - a):\", vychisleniye)\n",
    "print(\"Произведение (a * b):\", multi)\n",
    "print(\"Частное (b / a):\", division)\n",
    "print(\"Остаток от деления (b % a):\", ostatok)"
   ]
  },
  {
   "cell_type": "code",
   "execution_count": 4,
   "metadata": {},
   "outputs": [
    {
     "name": "stdout",
     "output_type": "stream",
     "text": [
      "Исходник: Привет, мир!\n",
      "Верхний регистр: ПРИВЕТ, МИР!\n",
      "Нижний регистр: привет, мир!\n",
      "Замена: Привет, вселенная!\n"
     ]
    }
   ],
   "source": [
    "message = \"Привет, мир!\"\n",
    "\n",
    "upper_case_message = message.upper()\n",
    "\n",
    "lower_case_message = message.lower()\n",
    "\n",
    "replaced_message = message.replace(\"мир\", \"вселенная\")\n",
    "\n",
    "print(\"Исходник:\", message)\n",
    "print(\"Верхний регистр:\", upper_case_message)\n",
    "print(\"Нижний регистр:\", lower_case_message)\n",
    "print(\"Замена:\", replaced_message)"
   ]
  },
  {
   "cell_type": "code",
   "execution_count": 5,
   "metadata": {},
   "outputs": [
    {
     "name": "stdout",
     "output_type": "stream",
     "text": [
      "Привет, Иван!\n"
     ]
    }
   ],
   "source": [
    "username = input(\"Введите ваше имя: \")\n",
    "\n",
    "print(\"Привет, \" + username + \"!\")"
   ]
  },
  {
   "cell_type": "code",
   "execution_count": 11,
   "metadata": {},
   "outputs": [
    {
     "name": "stdout",
     "output_type": "stream",
     "text": [
      "Содержимое списка: [42, 100, '55']\n"
     ]
    }
   ],
   "source": [
    "my_list = [\"Привет\", 42]\n",
    "\n",
    "my_list.append(\"Новый элемент\")\n",
    "\n",
    "my_list.remove(\"Привет\")\n",
    "\n",
    "my_list[1] = 100\n",
    "\n",
    "user_input = input(\"Введите что-то, чтобы добавить в список: \")\n",
    "my_list.append(user_input)\n",
    "\n",
    "print(\"Содержимое списка:\", my_list)"
   ]
  },
  {
   "cell_type": "code",
   "execution_count": null,
   "metadata": {},
   "outputs": [],
   "source": []
  }
 ],
 "metadata": {
  "kernelspec": {
   "display_name": "Python 3",
   "language": "python",
   "name": "python3"
  },
  "language_info": {
   "codemirror_mode": {
    "name": "ipython",
    "version": 3
   },
   "file_extension": ".py",
   "mimetype": "text/x-python",
   "name": "python",
   "nbconvert_exporter": "python",
   "pygments_lexer": "ipython3",
   "version": "3.12.6"
  }
 },
 "nbformat": 4,
 "nbformat_minor": 2
}
